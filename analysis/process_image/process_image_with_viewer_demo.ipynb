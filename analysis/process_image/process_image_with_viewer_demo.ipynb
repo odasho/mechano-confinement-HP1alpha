{
 "cells": [
  {
   "cell_type": "code",
   "execution_count": 1,
   "metadata": {},
   "outputs": [],
   "source": [
    "import json\n",
    "from pathlib import Path\n",
    "\n",
    "from mechcell import ProcessImage"
   ]
  },
  {
   "cell_type": "code",
   "execution_count": 2,
   "metadata": {},
   "outputs": [],
   "source": [
    "meta_dir = Path(\"../../data/hela_experiments_meta\")\n",
    "data_dir = Path(\"../../data\")\n",
    "image_meta = meta_dir / \"2022-05-31_Image1.json\"\n",
    "\n",
    "with open(image_meta) as f:\n",
    "    metadata = json.load(f)\n",
    "\n",
    "image_processor = ProcessImage(metadata, data_dir, show_viewer=True)\n",
    "results = image_processor()"
   ]
  },
  {
   "cell_type": "code",
   "execution_count": null,
   "metadata": {},
   "outputs": [],
   "source": []
  }
 ],
 "metadata": {
  "kernelspec": {
   "display_name": "mechanoconf_pinned",
   "language": "python",
   "name": "python3"
  },
  "language_info": {
   "codemirror_mode": {
    "name": "ipython",
    "version": 3
   },
   "file_extension": ".py",
   "mimetype": "text/x-python",
   "name": "python",
   "nbconvert_exporter": "python",
   "pygments_lexer": "ipython3",
   "version": "3.11.11"
  }
 },
 "nbformat": 4,
 "nbformat_minor": 4
}
