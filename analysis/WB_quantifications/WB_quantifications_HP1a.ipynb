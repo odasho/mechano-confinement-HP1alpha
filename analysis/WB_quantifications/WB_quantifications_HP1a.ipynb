{
 "cells": [
  {
   "cell_type": "code",
   "execution_count": 1,
   "id": "490ef6b3-d577-4b39-b93d-8586c566f5e9",
   "metadata": {},
   "outputs": [],
   "source": [
    "import matplotlib.pyplot as plt\n",
    "import numpy as np\n",
    "import pandas as pd\n",
    "import seaborn as sns\n",
    "\n",
    "\n",
    "fontsize = 13\n",
    "plt.rcParams.update(\n",
    "    {\n",
    "        \"font.family\": \"sans-serif\",\n",
    "        \"font.sans-serif\": [\"Arial\"],\n",
    "        \"axes.labelsize\": fontsize,\n",
    "        \"legend.fontsize\": fontsize,\n",
    "        \"xtick.labelsize\": fontsize,\n",
    "        \"ytick.labelsize\": fontsize,\n",
    "        \"axes.titlesize\": fontsize,\n",
    "        \"legend.handlelength\": 2,\n",
    "    }\n",
    ")\n",
    "\n",
    "pd.set_option(\"display.max_rows\", None, \"display.max_columns\", None)"
   ]
  },
  {
   "cell_type": "markdown",
   "id": "48bd2be1-c11e-47ec-858d-6a4c7a897a95",
   "metadata": {},
   "source": [
    "### Quantifications of LFC from intensity values Western Blot"
   ]
  },
  {
   "cell_type": "code",
   "execution_count": 2,
   "id": "d6a83975-812d-48be-aeaa-c0e086e7263a",
   "metadata": {},
   "outputs": [
    {
     "data": {
      "text/html": [
       "<div>\n",
       "<style scoped>\n",
       "    .dataframe tbody tr th:only-of-type {\n",
       "        vertical-align: middle;\n",
       "    }\n",
       "\n",
       "    .dataframe tbody tr th {\n",
       "        vertical-align: top;\n",
       "    }\n",
       "\n",
       "    .dataframe thead th {\n",
       "        text-align: right;\n",
       "    }\n",
       "</style>\n",
       "<table border=\"1\" class=\"dataframe\">\n",
       "  <thead>\n",
       "    <tr style=\"text-align: right;\">\n",
       "      <th></th>\n",
       "      <th>GAPDH</th>\n",
       "      <th>HP1</th>\n",
       "    </tr>\n",
       "    <tr>\n",
       "      <th>mem8.3.24_15m3x</th>\n",
       "      <th></th>\n",
       "      <th></th>\n",
       "    </tr>\n",
       "  </thead>\n",
       "  <tbody>\n",
       "    <tr>\n",
       "      <th>NC1</th>\n",
       "      <td>10272.631</td>\n",
       "      <td>8707.660</td>\n",
       "    </tr>\n",
       "    <tr>\n",
       "      <th>15m1</th>\n",
       "      <td>10991.631</td>\n",
       "      <td>7669.882</td>\n",
       "    </tr>\n",
       "    <tr>\n",
       "      <th>NC2</th>\n",
       "      <td>9607.510</td>\n",
       "      <td>4013.054</td>\n",
       "    </tr>\n",
       "    <tr>\n",
       "      <th>15m2</th>\n",
       "      <td>11698.045</td>\n",
       "      <td>5081.782</td>\n",
       "    </tr>\n",
       "  </tbody>\n",
       "</table>\n",
       "</div>"
      ],
      "text/plain": [
       "                     GAPDH       HP1\n",
       "mem8.3.24_15m3x                     \n",
       "NC1              10272.631  8707.660\n",
       "15m1             10991.631  7669.882\n",
       "NC2               9607.510  4013.054\n",
       "15m2             11698.045  5081.782"
      ]
     },
     "execution_count": 2,
     "metadata": {},
     "output_type": "execute_result"
    }
   ],
   "source": [
    "# Raw intensity measurements from ImageJ\n",
    "\n",
    "import pandas as pd\n",
    "\n",
    "# Create a dictionary with the provided data\n",
    "data = {\n",
    "    \"mem8.3.24_15m3x\": [\"NC1\", \"15m1\", \"NC2\", \"15m2\"],\n",
    "    \"GAPDH\": [10272.631, 10991.631, 9607.51, 11698.045],\n",
    "    \"HP1\": [8707.66, 7669.882, 4013.054, 5081.782],\n",
    "}\n",
    "\n",
    "# Create a DataFrame from the dictionary\n",
    "df = pd.DataFrame(data)\n",
    "\n",
    "# Set the index to the first column\n",
    "df.set_index(\"mem8.3.24_15m3x\", inplace=True)\n",
    "\n",
    "# Display the DataFrame\n",
    "df"
   ]
  },
  {
   "cell_type": "code",
   "execution_count": 3,
   "id": "5a9a148d-4f44-41de-931c-7facb1260bd0",
   "metadata": {},
   "outputs": [
    {
     "name": "stdout",
     "output_type": "stream",
     "text": [
      "Average of GAPDH for NC1 and NC2: 9940.0705\n",
      "Average of GAPDH for 15m1 and 15m2: 11344.838\n"
     ]
    }
   ],
   "source": [
    "NC_GAPDH = df.loc[[\"NC1\", \"NC2\"], \"GAPDH\"]\n",
    "C_GAPDH = df.loc[[\"15m1\", \"15m2\"], \"GAPDH\"]\n",
    "\n",
    "# Calculate the average\n",
    "NC_avg_gapdh = NC_GAPDH.mean()\n",
    "C_avg_gapdh = C_GAPDH.mean()\n",
    "\n",
    "print(\"Average of GAPDH for NC1 and NC2:\", NC_avg_gapdh)\n",
    "print(\"Average of GAPDH for 15m1 and 15m2:\", C_avg_gapdh)"
   ]
  },
  {
   "cell_type": "code",
   "execution_count": 4,
   "id": "34b9ab65-5377-4c38-b0b1-38895915da02",
   "metadata": {},
   "outputs": [
    {
     "name": "stdout",
     "output_type": "stream",
     "text": [
      "The ratio between Conf and NC: 1.1413236958430024\n",
      "NC1 normalized: 9938.258693344278\n",
      "NC2 normalized: 4580.193622897545\n",
      "The ratio between NC and Conf: 0.8761756227810392\n",
      "Conf 15m1 normalized: 6720.163638007082\n",
      "Conf 15m2 normalized: 4452.533508687475\n"
     ]
    }
   ],
   "source": [
    "# Controls HP1a normalized\n",
    "\n",
    "ratio_C_NC = C_avg_gapdh / NC_avg_gapdh\n",
    "print(\"The ratio between Conf and NC:\", ratio_C_NC)\n",
    "\n",
    "NC1_hp1a = df.loc[\"NC1\", \"HP1\"]\n",
    "NC1_normalized = NC1_hp1a * ratio_C_NC\n",
    "print(\"NC1 normalized:\", NC1_normalized)\n",
    "\n",
    "NC2_hp1a = df.loc[\"NC2\", \"HP1\"]\n",
    "NC2_normalized = NC2_hp1a * ratio_C_NC\n",
    "print(\"NC2 normalized:\", NC2_normalized)\n",
    "\n",
    "# Confined 15m HP1a normalized\n",
    "\n",
    "ratio_NC_C = NC_avg_gapdh / C_avg_gapdh\n",
    "print(\"The ratio between NC and Conf:\", ratio_NC_C)\n",
    "\n",
    "C1_hp1a = df.loc[\"15m1\", \"HP1\"]\n",
    "C1_normalized = C1_hp1a * ratio_NC_C\n",
    "print(\"Conf 15m1 normalized:\", C1_normalized)\n",
    "\n",
    "C2_hp1a = df.loc[\"15m2\", \"HP1\"]\n",
    "C2_normalized = C2_hp1a * ratio_NC_C\n",
    "print(\"Conf 15m2 normalized:\", C2_normalized)"
   ]
  },
  {
   "cell_type": "code",
   "execution_count": 5,
   "id": "51184c2c-159e-4bcf-93c7-bce3f168767a",
   "metadata": {},
   "outputs": [
    {
     "name": "stdout",
     "output_type": "stream",
     "text": [
      "Fold change for 15m1 normalized by NC1 normalized: 0.6761912569761968\n",
      "Fold change for 15m2 normalized by NC2 normalized: 0.972127790936203\n",
      "Avg. FC: 0.8241595239561998\n"
     ]
    }
   ],
   "source": [
    "# Fold change from NC to 15min confinement, first run\n",
    "# Fold change calculation\n",
    "fold_change_15m1 = C1_normalized / NC1_normalized\n",
    "fold_change_15m2 = C2_normalized / NC2_normalized\n",
    "\n",
    "print(\"Fold change for 15m1 normalized by NC1 normalized:\", fold_change_15m1)\n",
    "print(\"Fold change for 15m2 normalized by NC2 normalized:\", fold_change_15m2)\n",
    "\n",
    "# As we keep the control as 1 and normalize HP1a by the control, we get relative expression levels to the control.\n",
    "\n",
    "avg_FC = (fold_change_15m1 + fold_change_15m2) / 2\n",
    "print(\"Avg. FC:\", avg_FC)"
   ]
  },
  {
   "cell_type": "code",
   "execution_count": 13,
   "id": "0ecec3fc-cf6c-47c9-adec-fd09138ac027",
   "metadata": {},
   "outputs": [
    {
     "name": "stdout",
     "output_type": "stream",
     "text": [
      "Standard deviation for fold change: 0.14796826698000315\n"
     ]
    }
   ],
   "source": [
    "# Fold change values\n",
    "fold_changes = np.array([fold_change_15m1, fold_change_15m2])\n",
    "\n",
    "# Calculate standard deviation\n",
    "std_dev = np.std(fold_changes)\n",
    "\n",
    "print(\"Standard deviation for fold change:\", std_dev)\n",
    "\n",
    "# For using standard deviation from population and not based on sample from Excel. Recommended to use population when there is a duplicate."
   ]
  },
  {
   "cell_type": "markdown",
   "id": "af89130c-4af8-43de-b662-f045797f6eee",
   "metadata": {},
   "source": [
    "### Bar plot of NC and Conf with std"
   ]
  },
  {
   "cell_type": "code",
   "execution_count": 14,
   "id": "500154ff-f0fa-4195-918f-1ea749b75123",
   "metadata": {},
   "outputs": [],
   "source": [
    "# Create a DataFrame for bar plot\n",
    "FC = {\"Condition\": [\"Non-Confined\", \"Confined\"], \"Fold Change\": [1, avg_FC], \"sd\": [0, std_dev]}\n",
    "\n",
    "barplot_df = pd.DataFrame(FC)"
   ]
  },
  {
   "cell_type": "code",
   "execution_count": 16,
   "id": "b1f3553e-9ea2-4520-8e73-f0090b130d0b",
   "metadata": {},
   "outputs": [
    {
     "name": "stderr",
     "output_type": "stream",
     "text": [
      "/var/folders/lf/ptmz_tjd7ql4qmczj2688yg40000gp/T/ipykernel_44270/1192130013.py:38: UserWarning: set_ticklabels() should only be used with a fixed number of ticks, i.e. after set_ticks() or using a FixedLocator.\n",
      "  axes.set_xticklabels(new_confiner_labels_IMR90)\n"
     ]
    },
    {
     "data": {
      "image/png": "[encoded data removed]",
      "text/plain": [
       "<Figure size 1240.16x649.606 with 1 Axes>"
      ]
     },
     "metadata": {},
     "output_type": "display_data"
    }
   ],
   "source": [
    "# Specify width and height in millimeters\n",
    "fig_width_mm = 105\n",
    "fig_height_mm = 55\n",
    "\n",
    "# Convert millimeters to inches (1 inch = 25.4 mm)\n",
    "fig_width_inches = fig_width_mm / 25.4\n",
    "fig_height_inches = fig_height_mm / 25.4\n",
    "\n",
    "fig, axes = plt.subplots(\n",
    "    nrows=1, ncols=1, figsize=(fig_width_inches, fig_height_inches), tight_layout=True, dpi=300, sharey=False\n",
    ")\n",
    "\n",
    "labels = [\"Non-Confined\", \"Confined\"]\n",
    "colors = [\"royalblue\", \"red\"]\n",
    "\n",
    "bar_width = 0.5\n",
    "\n",
    "barplot = axes.bar(\n",
    "    barplot_df[\"Condition\"], barplot_df[\"Fold Change\"], yerr=barplot_df[\"sd\"], color=colors, capsize=5, width=bar_width\n",
    ")\n",
    "\n",
    "plt.xlabel(None)\n",
    "\n",
    "\n",
    "axes.set(ylabel=\"HP1α levels\\n(relative to control)\")\n",
    "axes.set_ylim(0, 1.2)\n",
    "\n",
    "lw = 1.5\n",
    "\n",
    "axes.spines[\"top\"].set_visible(False)\n",
    "axes.spines[\"right\"].set_visible(False)\n",
    "axes.spines[\"left\"].set_linewidth(lw)  # Increase linewidth for the left spine if desired\n",
    "axes.spines[\"bottom\"].set_linewidth(lw)  # Increase linewidth for the bottom spine if desired\n",
    "axes.tick_params(axis=\"both\", which=\"major\", width=lw)  # Increase tick width if desired\n",
    "\n",
    "new_confiner_labels_IMR90 = [\"Non-confined\", \"Confined\"]\n",
    "\n",
    "axes.set_xticklabels(new_confiner_labels_IMR90)\n",
    "\n",
    "plt.savefig(\"../../Figures/Supplementary/Suppl_Figure4E.pdf\", bbox_inches=\"tight\", dpi=300)\n",
    "\n",
    "plt.show()"
   ]
  },
  {
   "cell_type": "code",
   "execution_count": null,
   "id": "1e9e2d40-494a-406c-ba9e-013e298bcd38",
   "metadata": {},
   "outputs": [],
   "source": []
  }
 ],
 "metadata": {
  "kernelspec": {
   "display_name": "mechanoconf_pinned",
   "language": "python",
   "name": "python3"
  },
  "language_info": {
   "codemirror_mode": {
    "name": "ipython",
    "version": 3
   },
   "file_extension": ".py",
   "mimetype": "text/x-python",
   "name": "python",
   "nbconvert_exporter": "python",
   "pygments_lexer": "ipython3",
   "version": "3.11.11"
  }
 },
 "nbformat": 4,
 "nbformat_minor": 5
}
